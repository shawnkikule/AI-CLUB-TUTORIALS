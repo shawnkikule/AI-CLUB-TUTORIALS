{
  "nbformat": 4,
  "nbformat_minor": 0,
  "metadata": {
    "colab": {
      "provenance": [],
      "collapsed_sections": [
        "W8vcVbuAPFW3",
        "G97AO8NmQXyI",
        "XdNvx2wMYUZB",
        "EflTRnrcURgn"
      ],
      "include_colab_link": true
    },
    "kernelspec": {
      "name": "python3",
      "display_name": "Python 3"
    },
    "language_info": {
      "name": "python"
    }
  },
  "cells": [
    {
      "cell_type": "markdown",
      "metadata": {
        "id": "view-in-github",
        "colab_type": "text"
      },
      "source": [
        "<a href=\"https://colab.research.google.com/github/shawnkikule/AI-CLUB-TUTORIALS/blob/main/AIClubNumpyTutorial.ipynb\" target=\"_parent\"><img src=\"https://colab.research.google.com/assets/colab-badge.svg\" alt=\"Open In Colab\"/></a>"
      ]
    },
    {
      "cell_type": "markdown",
      "source": [
        "Python libraries play a crucial role in machine learning by providing a wide range of tools and functionalities that simplify the development, implementation, and deployment of machine learning models.\n",
        "The most popular of these libraries are;\n",
        "- Numpy\n",
        "- Pandas\n",
        "- Matplotlib\n",
        "- Sci-kit learn\n",
        "- Seaborn ... to mention but a few\n",
        "\n",
        "Today we'll going through an Numpy.\n",
        "NB: This isn't an exhaustive tutorial on Numpy, just enough get you to know the basics and the most common aplications in Machine Learning.\n",
        "\n",
        "Compiled by KikuleShawnJ"
      ],
      "metadata": {
        "id": "UtHi7TcW4pqG"
      }
    },
    {
      "cell_type": "markdown",
      "source": [
        "##WHAT IS NUMPY\n",
        "\n",
        "Numpy(Numerical Python) is a Python library for creating and manipulating matrices, the main data structure used by Machine Learning algorithms. Matrices are mathematical objects used to store values in rows and columns.\n",
        "\n",
        "Python calls matrices lists, NumPy calls them arrays and TensorFlow calls them tensors. Python represents matrices with the list data type.\n",
        "\n",
        "It provides efficient N-dimensional array objects, mathematical functions, linear algebra operations, and random number generation. NumPy is the backbone of many other libraries in the scientific computing and machine learning ecosystem.\n"
      ],
      "metadata": {
        "id": "rRYNImHcAa1v"
      }
    },
    {
      "cell_type": "markdown",
      "source": [
        "##IMPORT NumPy MODULE\n",
        "\n",
        "Run the code cells below to import NumPy and check the version.\n"
      ],
      "metadata": {
        "id": "bjm1iP9DHKSy"
      }
    },
    {
      "cell_type": "code",
      "source": [
        "import numpy\n"
      ],
      "metadata": {
        "id": "UXU7LR6Du64B"
      },
      "execution_count": null,
      "outputs": []
    },
    {
      "cell_type": "code",
      "source": [
        "# install numpy\n",
        "!pip install numpy"
      ],
      "metadata": {
        "id": "QW0-dYV_HdAH",
        "colab": {
          "base_uri": "https://localhost:8080/"
        },
        "outputId": "6f6d04c3-6718-49cc-e1cb-00317bc83642"
      },
      "execution_count": null,
      "outputs": [
        {
          "output_type": "stream",
          "name": "stdout",
          "text": [
            "Looking in indexes: https://pypi.org/simple, https://us-python.pkg.dev/colab-wheels/public/simple/\n",
            "Requirement already satisfied: numpy in /usr/local/lib/python3.10/dist-packages (1.22.4)\n"
          ]
        }
      ]
    },
    {
      "cell_type": "code",
      "source": [
        "# import numpy and give it the alias np\n",
        "import numpy as np"
      ],
      "metadata": {
        "id": "N1r0vwTBHiZg"
      },
      "execution_count": null,
      "outputs": []
    },
    {
      "cell_type": "code",
      "source": [
        "# check your numpy version being used\n",
        "np.__version__"
      ],
      "metadata": {
        "id": "ZbklUdyWHntI",
        "colab": {
          "base_uri": "https://localhost:8080/",
          "height": 35
        },
        "outputId": "9339d879-b4b3-4f37-e4f3-d6ba3744d016"
      },
      "execution_count": null,
      "outputs": [
        {
          "output_type": "execute_result",
          "data": {
            "text/plain": [
              "'1.22.4'"
            ],
            "application/vnd.google.colaboratory.intrinsic+json": {
              "type": "string"
            }
          },
          "metadata": {},
          "execution_count": 13
        }
      ]
    },
    {
      "cell_type": "markdown",
      "source": [
        "##POPULATING NUMPY ARRAYS SPECIFIC NUMBERS\n",
        "We use `np.array` to create numpy arrays with your own values.\n",
        "You can specify the datatype using `dtype` argument(The default is int64).\n",
        "The code cell below creates a 5 element array, whose elements are of type 'float32':"
      ],
      "metadata": {
        "id": "pm3T3qP9JCpy"
      }
    },
    {
      "cell_type": "code",
      "source": [
        "one_dimensional_array = np.array([2.7, 3.5, 4.6, 5.2, 6.1], dtype='float32') # 1x1 array\n",
        "array2 = np.array([2,3,4,5])\n",
        "datatype = array2.dtype\n",
        "print(datatype)\n",
        "# print(one_dimensional_array)\n",
        "# print(type(one_dimensional_array))\n",
        "# using ndim to check for the number of dimensions in the array"
      ],
      "metadata": {
        "id": "Wu2mKuoCK0X0",
        "colab": {
          "base_uri": "https://localhost:8080/"
        },
        "outputId": "5736db30-b290-4684-d05d-90a60fb72e7f"
      },
      "execution_count": null,
      "outputs": [
        {
          "output_type": "stream",
          "name": "stdout",
          "text": [
            "int64\n"
          ]
        }
      ]
    },
    {
      "cell_type": "markdown",
      "source": [
        "You can also create a two dimensional array in the same way, just by adding a layer of square brackets. The code cell below creates a 3x2 numpy array."
      ],
      "metadata": {
        "id": "LaFdZ9PQLQ8a"
      }
    },
    {
      "cell_type": "code",
      "source": [
        "two_dimensinal_array = np.array([\n",
        "\n",
        "    [4.7, 6.8, 3],\n",
        "    [8.9, 8.4, 9],\n",
        "    [5.3, 7.4, 8]\n",
        "\n",
        "    ])\n",
        "\n",
        "print(two_dimensinal_array)"
      ],
      "metadata": {
        "id": "pQA5R9_sMd23",
        "colab": {
          "base_uri": "https://localhost:8080/"
        },
        "outputId": "8ad22682-2a79-4021-a1ba-bbf34c8cddf7"
      },
      "execution_count": null,
      "outputs": [
        {
          "output_type": "stream",
          "name": "stdout",
          "text": [
            "[[4.7 6.8 3. ]\n",
            " [8.9 8.4 9. ]\n",
            " [5.3 7.4 8. ]]\n"
          ]
        }
      ]
    },
    {
      "cell_type": "code",
      "source": [
        "three_dimensional_array = np.array(\n",
        "    [\n",
        "        [\n",
        "            [4,5,7],[3,5,3]\n",
        "        ],\n",
        "        [\n",
        "            [7,9,2],[8,5,4]\n",
        "        ],\n",
        "      [[5.5,6.6],[5,7,9]]])\n",
        "print(three_dimensional_array)\n"
      ],
      "metadata": {
        "id": "QF6CCzmnLOqR",
        "colab": {
          "base_uri": "https://localhost:8080/"
        },
        "outputId": "edf0701f-0868-4fcf-afc0-bb408184ce4e"
      },
      "execution_count": null,
      "outputs": [
        {
          "output_type": "stream",
          "name": "stdout",
          "text": [
            "[[[4.  5.  7. ]\n",
            "  [7.  9.  2. ]\n",
            "  [5.5 6.6 8.7]]]\n"
          ]
        }
      ]
    },
    {
      "cell_type": "markdown",
      "source": [
        "You can also populate populate a numpy array specifically with zero's and one's"
      ],
      "metadata": {
        "id": "pIEJBImJWVP1"
      }
    },
    {
      "cell_type": "code",
      "source": [
        "print(np.zeros(6))\n",
        "print(np.ones(6))"
      ],
      "metadata": {
        "id": "4LB32xdtXYmH",
        "colab": {
          "base_uri": "https://localhost:8080/"
        },
        "outputId": "fc793a1d-3b5b-410c-b3bb-af5de1e8e21c"
      },
      "execution_count": null,
      "outputs": [
        {
          "output_type": "stream",
          "name": "stdout",
          "text": [
            "[0. 0. 0. 0. 0. 0.]\n",
            "[1. 1. 1. 1. 1. 1.]\n"
          ]
        }
      ]
    },
    {
      "cell_type": "markdown",
      "source": [
        "## POPULATING NUMPY ARRAYS WITH A SEQUENCE OF NUMBERS\n",
        "You can populate the arrays with a sequence of numbers from a specific lower bound, to a specific upper bound"
      ],
      "metadata": {
        "id": "W8vcVbuAPFW3"
      }
    },
    {
      "cell_type": "code",
      "source": [
        "sequence_of_intergers = np.arange(5,12)\n",
        "print(sequence_of_intergers)\n"
      ],
      "metadata": {
        "colab": {
          "base_uri": "https://localhost:8080/"
        },
        "id": "kjOT5C2DPgdd",
        "outputId": "5658dcac-eb2c-4376-af67-210609d027cb"
      },
      "execution_count": null,
      "outputs": [
        {
          "output_type": "stream",
          "name": "stdout",
          "text": [
            "[ 5  6  7  8  9 10 11]\n"
          ]
        }
      ]
    },
    {
      "cell_type": "code",
      "source": [
        "integer_sequence_2 = np.arange(2,11,2)\n",
        "print(integer_sequence_2)"
      ],
      "metadata": {
        "colab": {
          "base_uri": "https://localhost:8080/"
        },
        "id": "ATVpmeITPq3e",
        "outputId": "158ac4a7-ce71-40b2-98d6-85287519e2c1"
      },
      "execution_count": null,
      "outputs": [
        {
          "output_type": "stream",
          "name": "stdout",
          "text": [
            "[ 2  4  6  8 10]\n"
          ]
        }
      ]
    },
    {
      "cell_type": "markdown",
      "source": [
        "##POPULATING NUMPY ARRAYS WITH RANDOM NUMBERS\n",
        "NumPy provides many functions to populate arrays with random numbers across certain ranges. For example, `np.random.randint` generates random integers between a low and high value. The following call populates a 5-element array with random integers between 1 and 50."
      ],
      "metadata": {
        "id": "G97AO8NmQXyI"
      }
    },
    {
      "cell_type": "code",
      "source": [
        "random_array = np.random.randint(low=1, high=51, size=(5))\n",
        "print(random_array)"
      ],
      "metadata": {
        "colab": {
          "base_uri": "https://localhost:8080/"
        },
        "id": "PXA1hDOMQ7jF",
        "outputId": "a8a18b58-c99a-465d-8959-f1b11b9f177b"
      },
      "execution_count": null,
      "outputs": [
        {
          "output_type": "stream",
          "name": "stdout",
          "text": [
            "[ 7  6 41 19  2]\n"
          ]
        }
      ]
    },
    {
      "cell_type": "markdown",
      "source": [
        "You can also create an array of random floating point numbers using `np.random.random` between 0 and 1."
      ],
      "metadata": {
        "id": "UHrJIDMbT-0L"
      }
    },
    {
      "cell_type": "code",
      "source": [
        "random_float_between_0and1 = np.random.random([6])\n",
        "print(random_float_between_0and1)"
      ],
      "metadata": {
        "colab": {
          "base_uri": "https://localhost:8080/"
        },
        "id": "Xuaj4CrqVk-d",
        "outputId": "21f01f26-b7b4-4140-b53e-6f9b88d07b08"
      },
      "execution_count": null,
      "outputs": [
        {
          "output_type": "stream",
          "name": "stdout",
          "text": [
            "[0.30328029 0.03403788 0.36126116 0.20180599 0.41602207 0.70554418]\n"
          ]
        }
      ]
    },
    {
      "cell_type": "code",
      "source": [
        "# random floating point numbers between 2 and 4\n",
        "random_fp = np.random.uniform(2,4, size=10)\n",
        "print(random_fp)"
      ],
      "metadata": {
        "colab": {
          "base_uri": "https://localhost:8080/"
        },
        "id": "zMZSv_llVxLm",
        "outputId": "8bf41cbe-6f57-4663-e3b4-6e32d94cb5cc"
      },
      "execution_count": null,
      "outputs": [
        {
          "output_type": "stream",
          "name": "stdout",
          "text": [
            "[3.17947098 3.20432784 2.34139667 2.79420208 3.17061984 2.71764789\n",
            " 3.34656264 2.01420953 2.2544191  3.07002899]\n"
          ]
        }
      ]
    },
    {
      "cell_type": "markdown",
      "source": [
        "##MATHEMATICAL OPERATIONS ON NUMPY OPERANDS\n",
        "NumPy uses a technique called broadcasting to simplfy addition, subtraction and multiplication of NumPy operands as illustrated in the code cell below."
      ],
      "metadata": {
        "id": "XdNvx2wMYUZB"
      }
    },
    {
      "cell_type": "code",
      "source": [
        "# generating data_set we will use for broadcasting\n",
        "broadcasting_arr = np.random.randint(low=50, high=101, size=(10))\n",
        "print(broadcasting_arr)\n"
      ],
      "metadata": {
        "colab": {
          "base_uri": "https://localhost:8080/"
        },
        "id": "Jup7WVZSj2Sl",
        "outputId": "cac50c50-c964-4ff1-87a8-d677c4ab975a"
      },
      "execution_count": null,
      "outputs": [
        {
          "output_type": "stream",
          "name": "stdout",
          "text": [
            "[70 83 77 84 76 59 65 67 85 97]\n"
          ]
        }
      ]
    },
    {
      "cell_type": "code",
      "source": [
        "# addition\n",
        "added = broadcasting_arr + 3\n",
        "print(added)"
      ],
      "metadata": {
        "id": "VfLRRsRRkSNE",
        "colab": {
          "base_uri": "https://localhost:8080/"
        },
        "outputId": "2c124887-e661-480a-d7b6-801882333879"
      },
      "execution_count": null,
      "outputs": [
        {
          "output_type": "stream",
          "name": "stdout",
          "text": [
            "[ 73  86  80  87  79  62  68  70  88 100]\n"
          ]
        }
      ]
    },
    {
      "cell_type": "code",
      "source": [
        "# subtraction\n",
        "subtracted = broadcasting_arr - 3\n",
        "print(subtracted)"
      ],
      "metadata": {
        "id": "EQPZTOaEkvbp",
        "colab": {
          "base_uri": "https://localhost:8080/"
        },
        "outputId": "2fb7302a-74f9-41ce-e3e3-71fda67e0775"
      },
      "execution_count": null,
      "outputs": [
        {
          "output_type": "stream",
          "name": "stdout",
          "text": [
            "[67 80 74 81 73 56 62 64 82 94]\n"
          ]
        }
      ]
    },
    {
      "cell_type": "code",
      "source": [
        "# multiplication\n",
        "multiplied = broadcasting_arr * 2\n",
        "print(multiplied)"
      ],
      "metadata": {
        "id": "X0z8zVpCk6ow",
        "colab": {
          "base_uri": "https://localhost:8080/"
        },
        "outputId": "14217a38-156d-4792-8da1-dbd92700f725"
      },
      "execution_count": null,
      "outputs": [
        {
          "output_type": "stream",
          "name": "stdout",
          "text": [
            "[140 166 154 168 152 118 130 134 170 194]\n"
          ]
        }
      ]
    },
    {
      "cell_type": "code",
      "source": [],
      "metadata": {
        "id": "YGtv1qVjlD-n"
      },
      "execution_count": null,
      "outputs": []
    },
    {
      "cell_type": "markdown",
      "source": [
        "##TASK 1\n",
        "Create a simple dataset consisting of a simplefeature and label as follows:\n",
        "1. Assign a sequence of integers from 5 to 20(inclusive) to a NumPy array named `feature`.\n",
        "2. Assign 15 values to a NumPy array named `label`, such that:\n",
        "```\n",
        "label = (2)feature + 4\n",
        "```\n",
        "for example, the first value in label should be;\n",
        "```\n",
        "label (2)(5) + 4 = 14\n",
        "```"
      ],
      "metadata": {
        "id": "EflTRnrcURgn"
      }
    },
    {
      "cell_type": "code",
      "source": [
        "feature = np.arange(5,21, dtype='float32')\n",
        "print(feature)"
      ],
      "metadata": {
        "colab": {
          "base_uri": "https://localhost:8080/"
        },
        "id": "GDfoq_fTaPTd",
        "outputId": "686c5c8d-9120-4e08-8165-6d7046c8ae91"
      },
      "execution_count": null,
      "outputs": [
        {
          "output_type": "stream",
          "name": "stdout",
          "text": [
            "[ 5.  6.  7.  8.  9. 10. 11. 12. 13. 14. 15. 16. 17. 18. 19. 20.]\n"
          ]
        }
      ]
    },
    {
      "cell_type": "code",
      "source": [
        "label = feature * 2\n",
        "label += 4\n",
        "print(label)"
      ],
      "metadata": {
        "colab": {
          "base_uri": "https://localhost:8080/"
        },
        "id": "LRJAh3wkap7m",
        "outputId": "080ccfab-8ab3-4eda-ca94-fc3c75992419"
      },
      "execution_count": null,
      "outputs": [
        {
          "output_type": "stream",
          "name": "stdout",
          "text": [
            "[14. 16. 18. 20. 22. 24. 26. 28. 30. 32. 34. 36. 38. 40. 42. 44.]\n"
          ]
        }
      ]
    },
    {
      "cell_type": "markdown",
      "source": [
        "##TASK 2\n",
        "Randomize your dataset by adding different random floating point numbers between -4 and 4 to the `label` dataset.\n",
        "\n",
        "Hint : Do not rely on broadcasting, create a different array with the same dimensions as the label array then add the two."
      ],
      "metadata": {
        "id": "BS2lzqWfb1qR"
      }
    },
    {
      "cell_type": "code",
      "source": [
        "noise = np.random.uniform(low=-4, high=4, size=16)\n",
        "print(noise)\n",
        "label += noise\n",
        "print(label)"
      ],
      "metadata": {
        "colab": {
          "base_uri": "https://localhost:8080/"
        },
        "id": "hbASHBHOg0Jk",
        "outputId": "b22d4742-1a8f-4fe4-cc60-8b9c8fa15030"
      },
      "execution_count": null,
      "outputs": [
        {
          "output_type": "stream",
          "name": "stdout",
          "text": [
            "[ 0.5568719   0.31587075 -3.25532852  0.38810523 -2.78119993  0.2125181\n",
            " -1.38382142  3.7633882   1.21208514  2.40212878  3.43393631  1.59290814\n",
            " -2.22852182  1.93416227  2.69754171  2.8298152 ]\n",
            "[14.556872 16.31587  14.744672 20.388105 19.2188   24.212519 24.616179\n",
            " 31.763388 31.212086 34.40213  37.433937 37.592907 35.771477 41.934162\n",
            " 44.69754  46.829815]\n"
          ]
        }
      ]
    },
    {
      "cell_type": "markdown",
      "source": [
        "## ARRAY INDEXING\n",
        "You can access elements of an array using their index numbers, indices start from 0, and the second index has 1, and so on.\n"
      ],
      "metadata": {
        "id": "gAEDAmw7o7wp"
      }
    },
    {
      "cell_type": "code",
      "source": [
        "indexing_array = np.array([1,2,3,4,5])\n",
        "# getting a specific element\n",
        "print(indexing_array[3])\n",
        "# mathematical operations on elements\n",
        "print(indexing_array[3]+indexing_array[2])"
      ],
      "metadata": {
        "colab": {
          "base_uri": "https://localhost:8080/"
        },
        "id": "v9tqOeGgrOjF",
        "outputId": "4927acb0-3daf-4621-c70a-5825ecd074ce"
      },
      "execution_count": null,
      "outputs": [
        {
          "output_type": "stream",
          "name": "stdout",
          "text": [
            "4\n",
            "7\n"
          ]
        }
      ]
    },
    {
      "cell_type": "markdown",
      "source": [
        "ACCESSING 2D ARRAYS\n",
        "\n",
        "To access elements from 2-D arrays we can use comma separated integers representing the dimension and the index of the element.\n",
        "\n"
      ],
      "metadata": {
        "id": "vJAd4p0BsO8k"
      }
    },
    {
      "cell_type": "code",
      "source": [
        "twoD_array = np.array([[1,2,3,4],[5,6,7,8]])\n",
        "print(twoD_array[0,3])\n",
        "print(twoD_array[1,1])"
      ],
      "metadata": {
        "colab": {
          "base_uri": "https://localhost:8080/"
        },
        "id": "8nIz2MdEtVpf",
        "outputId": "061a9f82-2e9f-4a66-8546-9ea69618cbf5"
      },
      "execution_count": null,
      "outputs": [
        {
          "output_type": "stream",
          "name": "stdout",
          "text": [
            "4\n",
            "6\n"
          ]
        }
      ]
    },
    {
      "cell_type": "markdown",
      "source": [
        "ACCESSING 3D ARRAYS\n",
        "\n",
        "To access elements from 3D arrays is similar"
      ],
      "metadata": {
        "id": "yAlnhi-XvWgl"
      }
    },
    {
      "cell_type": "code",
      "source": [
        "threeD = np.array([[[3,2,4,5], ]])"
      ],
      "metadata": {
        "id": "cr7JuNVEwlHN"
      },
      "execution_count": null,
      "outputs": []
    }
  ]
}